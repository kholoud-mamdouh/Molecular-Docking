{
  "nbformat": 4,
  "nbformat_minor": 0,
  "metadata": {
    "colab": {
      "provenance": []
    },
    "kernelspec": {
      "name": "python3",
      "display_name": "Python 3"
    },
    "language_info": {
      "name": "python"
    }
  },
  "cells": [
    {
      "cell_type": "code",
      "execution_count": null,
      "metadata": {
        "colab": {
          "base_uri": "https://localhost:8080/"
        },
        "id": "srX9n5yxUxBV",
        "outputId": "78a89db5-13de-4667-d029-68af02af3b41"
      },
      "outputs": [
        {
          "output_type": "stream",
          "name": "stdout",
          "text": [
            "--2022-12-23 19:19:47--  https://repo.continuum.io/miniconda/Miniconda3-latest-Linux-x86_64.sh\n",
            "Resolving repo.continuum.io (repo.continuum.io)... 104.18.201.79, 104.18.200.79, 2606:4700::6812:c84f, ...\n",
            "Connecting to repo.continuum.io (repo.continuum.io)|104.18.201.79|:443... connected.\n",
            "HTTP request sent, awaiting response... 301 Moved Permanently\n",
            "Location: https://repo.anaconda.com/miniconda/Miniconda3-latest-Linux-x86_64.sh [following]\n",
            "--2022-12-23 19:19:47--  https://repo.anaconda.com/miniconda/Miniconda3-latest-Linux-x86_64.sh\n",
            "Resolving repo.anaconda.com (repo.anaconda.com)... 104.16.130.3, 104.16.131.3, 2606:4700::6810:8303, ...\n",
            "Connecting to repo.anaconda.com (repo.anaconda.com)|104.16.130.3|:443... connected.\n",
            "HTTP request sent, awaiting response... 416 Requested Range Not Satisfiable\n",
            "\n",
            "    The file is already fully retrieved; nothing to do.\n",
            "\n",
            "PREFIX=/usr/local\n",
            "Unpacking payload ...\n",
            "                                                                                   \n",
            "Installing base environment...\n",
            "\n",
            "\n",
            "Downloading and Extracting Packages\n",
            "\n",
            "\n",
            "Downloading and Extracting Packages\n",
            "\n",
            "Preparing transaction: - \b\bdone\n",
            "Executing transaction: | \b\b/ \b\b- \b\bdone\n",
            "installation finished.\n",
            "WARNING:\n",
            "    You currently have a PYTHONPATH environment variable set. This may cause\n",
            "    unexpected behavior when running the Python interpreter in Miniconda3.\n",
            "    For best results, please verify that your PYTHONPATH only points to\n",
            "    directories of packages that are compatible with the Python interpreter\n",
            "    in Miniconda3: /usr/local\n"
          ]
        }
      ],
      "source": [
        "!wget -c https://repo.continuum.io/miniconda/Miniconda3-latest-Linux-x86_64.sh\n",
        "!chmod +x Miniconda3-latest-Linux-x86_64.sh\n",
        "!bash ./Miniconda3-latest-Linux-x86_64.sh -b -f -p /usr/local"
      ]
    },
    {
      "cell_type": "code",
      "source": [
        "!apt install openbabel"
      ],
      "metadata": {
        "colab": {
          "base_uri": "https://localhost:8080/"
        },
        "id": "JohYQkCRU6GD",
        "outputId": "31d92d58-ee16-4871-9bb5-e7ee434a3b29"
      },
      "execution_count": null,
      "outputs": [
        {
          "output_type": "stream",
          "name": "stdout",
          "text": [
            "Reading package lists... Done\n",
            "Building dependency tree       \n",
            "Reading state information... Done\n",
            "openbabel is already the newest version (2.3.2+dfsg-3build1).\n",
            "The following package was automatically installed and is no longer required:\n",
            "  libnvidia-common-460\n",
            "Use 'apt autoremove' to remove it.\n",
            "0 upgraded, 0 newly installed, 0 to remove and 20 not upgraded.\n"
          ]
        }
      ]
    },
    {
      "cell_type": "code",
      "source": [
        "!conda install -c conda-forge smina -y"
      ],
      "metadata": {
        "colab": {
          "base_uri": "https://localhost:8080/"
        },
        "id": "R8aw3JqIVE_W",
        "outputId": "42993e0a-24a9-45a0-cced-6010593004ea"
      },
      "execution_count": null,
      "outputs": [
        {
          "output_type": "stream",
          "name": "stdout",
          "text": [
            "Collecting package metadata (current_repodata.json): - \b\b\\ \b\b| \b\b/ \b\b- \b\b\\ \b\b| \b\b/ \b\b- \b\b\\ \b\b| \b\b/ \b\b- \b\b\\ \b\b| \b\b/ \b\b- \b\b\\ \b\b| \b\b/ \b\b- \b\b\\ \b\b| \b\b/ \b\b- \b\b\\ \b\b| \b\b/ \b\b- \b\b\\ \b\b| \b\b/ \b\b- \b\b\\ \b\b| \b\b/ \b\b- \b\b\\ \b\b| \b\b/ \b\b- \b\b\\ \b\b| \b\b/ \b\b- \b\b\\ \b\b| \b\b/ \b\b- \b\b\\ \b\b| \b\b/ \b\b- \b\b\\ \b\b| \b\b/ \b\b- \b\b\\ \b\b| \b\b/ \b\b- \b\b\\ \b\b| \b\b/ \b\b- \b\b\\ \b\b| \b\b/ \b\b- \b\b\\ \b\b| \b\b/ \b\b- \b\b\\ \b\b| \b\b/ \b\b- \b\bdone\n",
            "Solving environment: | \b\b/ \b\b- \b\b\\ \b\b| \b\b/ \b\b- \b\b\\ \b\b| \b\b/ \b\b- \b\b\\ \b\b| \b\b/ \b\b- \b\b\\ \b\b| \b\b/ \b\b- \b\b\\ \b\b| \b\b/ \b\b- \b\b\\ \b\b| \b\b/ \b\b- \b\b\\ \b\b| \b\b/ \b\b- \b\b\\ \b\b| \b\b/ \n",
            "The environment is inconsistent, please check the package plan carefully\n",
            "The following packages are causing the inconsistency:\n",
            "\n",
            "  - conda-forge/linux-64::smina==2020.12.10=h37f9cb6_0\n",
            "  - conda-forge/linux-64::libpng==1.6.39=h753d276_0\n",
            "  - defaults/linux-64::fontconfig==2.14.1=hef1e5e3_0\n",
            "  - conda-forge/linux-64::boost-cpp==1.74.0=h75c5d50_8\n",
            "  - defaults/linux-64::cairo==1.16.0=hb05425b_3\n",
            "  - conda-forge/linux-64::openbabel==3.1.1=py310h154a6b4_3\n",
            "  - conda-forge/linux-64::zstd==1.5.2=h8a70e8d_1\n",
            "  - conda-forge/linux-64::libxml2==2.9.14=h22db469_4\n",
            "  - conda-forge/linux-64::llvm-openmp==15.0.6=he0ac6c6_0\n",
            "  - conda-forge/linux-64::libzlib==1.2.13=h166bdaf_4\n",
            "  - conda-forge/linux-64::freetype==2.12.1=hca18f0e_1\n",
            "\b\b- \b\b\\ \b\b| \b\b/ \b\b- \b\b\\ \b\b| \b\bdone\n",
            "\n",
            "## Package Plan ##\n",
            "\n",
            "  environment location: /usr/local\n",
            "\n",
            "  added / updated specs:\n",
            "    - smina\n",
            "\n",
            "\n",
            "The following packages will be REMOVED:\n",
            "\n",
            "  libgomp-11.2.0-h1234567_1\n",
            "\n",
            "The following packages will be UPDATED:\n",
            "\n",
            "  ca-certificates    pkgs/main::ca-certificates-2022.10.11~ --> conda-forge::ca-certificates-2022.12.7-ha878542_0 \n",
            "  libgcc-ng          pkgs/main::libgcc-ng-11.2.0-h1234567_1 --> conda-forge::libgcc-ng-12.2.0-h65d4601_19 \n",
            "  openssl              pkgs/main::openssl-1.1.1s-h7f8727e_0 --> conda-forge::openssl-1.1.1s-h0b41bf4_1 \n",
            "  zlib                    pkgs/main::zlib-1.2.13-h5eee18b_0 --> conda-forge::zlib-1.2.13-h166bdaf_4 \n",
            "\n",
            "The following packages will be SUPERSEDED by a higher-priority channel:\n",
            "\n",
            "  _libgcc_mutex           pkgs/main::_libgcc_mutex-0.1-main --> conda-forge::_libgcc_mutex-0.1-conda_forge \n",
            "  _openmp_mutex          pkgs/main::_openmp_mutex-5.1-1_gnu --> conda-forge::_openmp_mutex-4.5-2_kmp_llvm \n",
            "  certifi            pkgs/main/linux-64::certifi-2022.12.7~ --> conda-forge/noarch::certifi-2022.12.7-pyhd8ed1ab_0 \n",
            "  conda              pkgs/main::conda-22.11.1-py310h06a430~ --> conda-forge::conda-22.11.1-py310hff52083_1 \n",
            "\n",
            "\n",
            "\n",
            "Downloading and Extracting Packages\n",
            "\n",
            "Preparing transaction: - \b\bdone\n",
            "Verifying transaction: | \b\b/ \b\bdone\n",
            "Executing transaction: \\ \b\b| \b\b/ \b\b- \b\b\\ \b\b| \b\b/ \b\b- \b\b\\ \b\b| \b\b/ \b\b- \b\b\\ \b\bdone\n"
          ]
        }
      ]
    },
    {
      "cell_type": "code",
      "source": [
        "!obabel -ipdb \"1gg2.pdb\" -opdb -O 1gg2_h.pdb -h"
      ],
      "metadata": {
        "colab": {
          "base_uri": "https://localhost:8080/"
        },
        "id": "GLUQ5JdFVUmT",
        "outputId": "c8e1a2b9-fae2-405a-d42b-20927ce336d1"
      },
      "execution_count": null,
      "outputs": [
        {
          "output_type": "stream",
          "name": "stdout",
          "text": [
            "==============================\n",
            "*** Open Babel Warning  in PerceiveBondOrders\n",
            "  Failed to kekulize aromatic bonds in OBMol::PerceiveBondOrders (title is 1gg2.pdb)\n",
            "\n",
            "1 molecule converted\n"
          ]
        }
      ]
    },
    {
      "cell_type": "code",
      "source": [
        "!obabel -isdf \"Ms.sdf\" -osdf -O Ms_h.sdf -h"
      ],
      "metadata": {
        "colab": {
          "base_uri": "https://localhost:8080/"
        },
        "id": "BDHTdRCvUBYZ",
        "outputId": "f6efa9b8-49e5-4d51-cdbf-28c685a7eaf7"
      },
      "execution_count": null,
      "outputs": [
        {
          "output_type": "stream",
          "name": "stdout",
          "text": [
            "721 molecules converted\n"
          ]
        }
      ]
    },
    {
      "cell_type": "code",
      "source": [
        "!obabel -ipdb \"ligand.pdb\" -opdb -O ligand_h.pdb -h"
      ],
      "metadata": {
        "colab": {
          "base_uri": "https://localhost:8080/"
        },
        "id": "1WkulogVU2lc",
        "outputId": "0d12694e-4ad4-4cd4-92a9-ae0df642e9a7"
      },
      "execution_count": null,
      "outputs": [
        {
          "output_type": "stream",
          "name": "stdout",
          "text": [
            "1 molecule converted\n"
          ]
        }
      ]
    },
    {
      "cell_type": "code",
      "source": [
        "!smina -r 1gg2_h.pdb -l ligand_h.pdb --autobox_ligand ligand.pdb --scoring vina -o ligand_vina.pdb --seed 42 --num_modes 1"
      ],
      "metadata": {
        "colab": {
          "base_uri": "https://localhost:8080/"
        },
        "id": "4X25M8HljCrO",
        "outputId": "cd530888-c38b-4c5b-9b9f-444b80760d9d"
      },
      "execution_count": null,
      "outputs": [
        {
          "output_type": "stream",
          "name": "stdout",
          "text": [
            "   _______  _______ _________ _        _______ \n",
            "  (  ____ \\(       )\\__   __/( (    /|(  ___  )\n",
            "  | (    \\/| () () |   ) (   |  \\  ( || (   ) |\n",
            "  | (_____ | || || |   | |   |   \\ | || (___) |\n",
            "  (_____  )| |(_)| |   | |   | (\\ \\) ||  ___  |\n",
            "        ) || |   | |   | |   | | \\   || (   ) |\n",
            "  /\\____) || )   ( |___) (___| )  \\  || )   ( |\n",
            "  \\_______)|/     \\|\\_______/|/    )_)|/     \\|\n",
            "\n",
            "\n",
            "smina is based off AutoDock Vina. Please cite appropriately.\n",
            "\n",
            "Weights      Terms\n",
            "-0.035579    gauss(o=0,_w=0.5,_c=8)\n",
            "-0.005156    gauss(o=3,_w=2,_c=8)\n",
            "0.840245     repulsion(o=0,_c=8)\n",
            "-0.035069    hydrophobic(g=0.5,_b=1.5,_c=8)\n",
            "-0.587439    non_dir_h_bond(g=-0.7,_b=0,_c=8)\n",
            "1.923        num_tors_div\n",
            "\n",
            "Using random seed: 42\n",
            "\n",
            "0%   10   20   30   40   50   60   70   80   90   100%\n",
            "|----|----|----|----|----|----|----|----|----|----|\n",
            "***************************************************\n",
            "\n",
            "mode |   affinity | dist from best mode\n",
            "     | (kcal/mol) | rmsd l.b.| rmsd u.b.\n",
            "-----+------------+----------+----------\n",
            "1       -12.7      0.000      0.000    \n",
            "Refine time 75.936\n",
            "Loop time 76.904\n"
          ]
        }
      ]
    },
    {
      "cell_type": "code",
      "source": [
        "!obrms -f ligand_h.pdb ligand_vina.pdb"
      ],
      "metadata": {
        "colab": {
          "base_uri": "https://localhost:8080/"
        },
        "id": "V2dtzmyWjVju",
        "outputId": "5c53eacf-6858-4109-a7e5-3a801c18e601"
      },
      "execution_count": null,
      "outputs": [
        {
          "output_type": "stream",
          "name": "stdout",
          "text": [
            "RMSD ligand_h.pdb:ligand_vina.pdb 1.05106\n"
          ]
        }
      ]
    },
    {
      "cell_type": "code",
      "source": [
        "!smina -r 1gg2_h.pdb -l Ms_h.sdf --autobox_ligand ligand.pdb --scoring vina -o Ms_vina.sdf --seed 42 --num_modes 1"
      ],
      "metadata": {
        "colab": {
          "base_uri": "https://localhost:8080/"
        },
        "id": "Z3J-XbM9fRm1",
        "outputId": "ce7285bd-488e-44a0-ca65-b1b6f40cf3bb"
      },
      "execution_count": null,
      "outputs": [
        {
          "output_type": "stream",
          "name": "stdout",
          "text": [
            "   _______  _______ _________ _        _______ \n",
            "  (  ____ \\(       )\\__   __/( (    /|(  ___  )\n",
            "  | (    \\/| () () |   ) (   |  \\  ( || (   ) |\n",
            "  | (_____ | || || |   | |   |   \\ | || (___) |\n",
            "  (_____  )| |(_)| |   | |   | (\\ \\) ||  ___  |\n",
            "        ) || |   | |   | |   | | \\   || (   ) |\n",
            "  /\\____) || )   ( |___) (___| )  \\  || )   ( |\n",
            "  \\_______)|/     \\|\\_______/|/    )_)|/     \\|\n",
            "\n",
            "\n",
            "smina is based off AutoDock Vina. Please cite appropriately.\n",
            "\n",
            "Weights      Terms\n",
            "-0.035579    gauss(o=0,_w=0.5,_c=8)\n",
            "-0.005156    gauss(o=3,_w=2,_c=8)\n",
            "0.840245     repulsion(o=0,_c=8)\n",
            "-0.035069    hydrophobic(g=0.5,_b=1.5,_c=8)\n",
            "-0.587439    non_dir_h_bond(g=-0.7,_b=0,_c=8)\n",
            "1.923        num_tors_div\n",
            "\n",
            "Using random seed: 42\n",
            "\n",
            "0%   10   20   30   40   50   60   70   80   90   100%\n",
            "|----|----|----|----|----|----|----|----|----|----|\n",
            "***************************************************\n",
            "\n",
            "mode |   affinity | dist from best mode\n",
            "     | (kcal/mol) | rmsd l.b.| rmsd u.b.\n",
            "-----+------------+----------+----------\n",
            "1       -9.9       0.000      0.000    \n",
            "Refine time 43.442\n",
            "Using random seed: 42\n",
            "\n",
            "0%   10   20   30   40   50   60   70   80   90   100%\n",
            "|----|----|----|----|----|----|----|----|----|----|\n",
            "***************************************************\n",
            "\n",
            "mode |   affinity | dist from best mode\n",
            "     | (kcal/mol) | rmsd l.b.| rmsd u.b.\n",
            "-----+------------+----------+----------\n",
            "1       -9.9       0.000      0.000    \n",
            "Refine time 40.186\n",
            "Using random seed: 42\n",
            "\n",
            "0%   10   20   30   40   50   60   70   80   90   100%\n",
            "|----|----|----|----|----|----|----|----|----|----|\n",
            "***************************************************\n",
            "\n",
            "mode |   affinity | dist from best mode\n",
            "     | (kcal/mol) | rmsd l.b.| rmsd u.b.\n",
            "-----+------------+----------+----------\n",
            "1       -9.9       0.000      0.000    \n",
            "Refine time 41.502\n",
            "Using random seed: 42\n",
            "\n",
            "0%   10   20   30   40   50   60   70   80   90   100%\n",
            "|----|----|----|----|----|----|----|----|----|----|\n",
            "***************************************************\n",
            "\n",
            "mode |   affinity | dist from best mode\n",
            "     | (kcal/mol) | rmsd l.b.| rmsd u.b.\n",
            "-----+------------+----------+----------\n",
            "1       -10.0      0.000      0.000    \n",
            "Refine time 35.778\n",
            "Using random seed: 42\n",
            "\n",
            "0%   10   20   30   40   50   60   70   80   90   100%\n",
            "|----|----|----|----|----|----|----|----|----|----|\n",
            "***************************************************\n",
            "\n",
            "mode |   affinity | dist from best mode\n",
            "     | (kcal/mol) | rmsd l.b.| rmsd u.b.\n",
            "-----+------------+----------+----------\n",
            "1       -9.4       0.000      0.000    \n",
            "Refine time 38.952\n",
            "Using random seed: 42\n",
            "\n",
            "0%   10   20   30   40   50   60   70   80   90   100%\n",
            "|----|----|----|----|----|----|----|----|----|----|\n",
            "***************************************************\n",
            "\n",
            "mode |   affinity | dist from best mode\n",
            "     | (kcal/mol) | rmsd l.b.| rmsd u.b.\n",
            "-----+------------+----------+----------\n",
            "1       -9.4       0.000      0.000    \n",
            "Refine time 40.816\n",
            "Using random seed: 42\n",
            "\n",
            "0%   10   20   30   40   50   60   70   80   90   100%\n",
            "|----|----|----|----|----|----|----|----|----|----|\n",
            "***************************************************\n",
            "\n",
            "mode |   affinity | dist from best mode\n",
            "     | (kcal/mol) | rmsd l.b.| rmsd u.b.\n",
            "-----+------------+----------+----------\n",
            "1       -7.2       0.000      0.000    \n",
            "Refine time 71.635\n",
            "Using random seed: 42\n",
            "\n",
            "0%   10   20   30   40   50   60   70   80   90   100%\n",
            "|----|----|----|----|----|----|----|----|----|----|\n",
            "**********^C\n"
          ]
        }
      ]
    },
    {
      "cell_type": "code",
      "source": [
        "!obrms -f ligand_h.pdb ligand_redock_ad4.pdb"
      ],
      "metadata": {
        "colab": {
          "base_uri": "https://localhost:8080/"
        },
        "id": "7YNWzJI6eTNu",
        "outputId": "8e70e498-bfa4-4aac-e583-357238e72ad3"
      },
      "execution_count": null,
      "outputs": [
        {
          "output_type": "stream",
          "name": "stdout",
          "text": [
            "RMSD ligand_h.pdb:ligand_redock_ad4.pdb 7.8067\n"
          ]
        }
      ]
    }
  ]
}