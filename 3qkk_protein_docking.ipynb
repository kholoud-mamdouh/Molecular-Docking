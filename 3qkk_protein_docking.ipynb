{
  "nbformat": 4,
  "nbformat_minor": 0,
  "metadata": {
    "colab": {
      "provenance": []
    },
    "kernelspec": {
      "name": "python3",
      "display_name": "Python 3"
    },
    "language_info": {
      "name": "python"
    }
  },
  "cells": [
    {
      "cell_type": "code",
      "source": [
        "!wget -c https://repo.continuum.io/miniconda/Miniconda3-latest-Linux-x86_64.sh\n",
        "!chmod +x Miniconda3-latest-Linux-x86_64.sh\n",
        "!bash ./Miniconda3-latest-Linux-x86_64.sh -b -f -p /usr/local"
      ],
      "metadata": {
        "colab": {
          "base_uri": "https://localhost:8080/"
        },
        "id": "pwix3tLI9xnb",
        "outputId": "3268f303-3d37-4514-e553-db7678338110"
      },
      "execution_count": null,
      "outputs": [
        {
          "output_type": "stream",
          "name": "stdout",
          "text": [
            "--2023-02-19 23:20:48--  https://repo.continuum.io/miniconda/Miniconda3-latest-Linux-x86_64.sh\n",
            "Resolving repo.continuum.io (repo.continuum.io)... 104.18.200.79, 104.18.201.79, 2606:4700::6812:c94f, ...\n",
            "Connecting to repo.continuum.io (repo.continuum.io)|104.18.200.79|:443... connected.\n",
            "HTTP request sent, awaiting response... 301 Moved Permanently\n",
            "Location: https://repo.anaconda.com/miniconda/Miniconda3-latest-Linux-x86_64.sh [following]\n",
            "--2023-02-19 23:20:48--  https://repo.anaconda.com/miniconda/Miniconda3-latest-Linux-x86_64.sh\n",
            "Resolving repo.anaconda.com (repo.anaconda.com)... 104.16.131.3, 104.16.130.3, 2606:4700::6810:8203, ...\n",
            "Connecting to repo.anaconda.com (repo.anaconda.com)|104.16.131.3|:443... connected.\n",
            "HTTP request sent, awaiting response... 416 Requested Range Not Satisfiable\n",
            "\n",
            "    The file is already fully retrieved; nothing to do.\n",
            "\n",
            "PREFIX=/usr/local\n",
            "Unpacking payload ...\n",
            "                                                                                  \n",
            "Installing base environment...\n",
            "\n",
            "\n",
            "Downloading and Extracting Packages\n",
            "\n",
            "\n",
            "Downloading and Extracting Packages\n",
            "\n",
            "Preparing transaction: - \b\bdone\n",
            "Executing transaction: | \b\b/ \b\b- \b\bdone\n",
            "installation finished.\n",
            "WARNING:\n",
            "    You currently have a PYTHONPATH environment variable set. This may cause\n",
            "    unexpected behavior when running the Python interpreter in Miniconda3.\n",
            "    For best results, please verify that your PYTHONPATH only points to\n",
            "    directories of packages that are compatible with the Python interpreter\n",
            "    in Miniconda3: /usr/local\n"
          ]
        }
      ]
    },
    {
      "cell_type": "code",
      "source": [
        "!apt install openbabel"
      ],
      "metadata": {
        "colab": {
          "base_uri": "https://localhost:8080/"
        },
        "id": "zlYvPmVO95GV",
        "outputId": "7875a40c-753c-436d-9751-a4beabe62e4e"
      },
      "execution_count": null,
      "outputs": [
        {
          "output_type": "stream",
          "name": "stdout",
          "text": [
            "Reading package lists... Done\n",
            "Building dependency tree       \n",
            "Reading state information... Done\n",
            "openbabel is already the newest version (3.0.0+dfsg-3ubuntu3).\n",
            "The following package was automatically installed and is no longer required:\n",
            "  libnvidia-common-510\n",
            "Use 'apt autoremove' to remove it.\n",
            "0 upgraded, 0 newly installed, 0 to remove and 21 not upgraded.\n"
          ]
        }
      ]
    },
    {
      "cell_type": "code",
      "source": [
        "!conda install -c conda-forge smina -y"
      ],
      "metadata": {
        "colab": {
          "base_uri": "https://localhost:8080/"
        },
        "id": "kRGFEFsz9_wc",
        "outputId": "62263ecc-d6c1-44d3-80f6-9e535f5edf07"
      },
      "execution_count": null,
      "outputs": [
        {
          "output_type": "stream",
          "name": "stdout",
          "text": [
            "Collecting package metadata (current_repodata.json): - \b\b\\ \b\b| \b\b/ \b\b- \b\b\\ \b\b| \b\b/ \b\b- \b\b\\ \b\b| \b\b/ \b\b- \b\b\\ \b\b| \b\b/ \b\b- \b\b\\ \b\b| \b\b/ \b\b- \b\b\\ \b\b| \b\b/ \b\b- \b\b\\ \b\b| \b\b/ \b\b- \b\b\\ \b\b| \b\b/ \b\b- \b\b\\ \b\b| \b\b/ \b\b- \b\b\\ \b\b| \b\b/ \b\b- \b\b\\ \b\b| \b\b/ \b\b- \b\bdone\n",
            "Solving environment: | \b\b/ \b\b- \b\b\\ \b\b| \b\b/ \b\b- \b\b\\ \b\b| \b\b/ \b\b- \b\b\\ \b\b| \b\b/ \b\b- \b\b\\ \b\b| \b\b/ \b\b- \b\b\\ \b\b| \b\b/ \b\b- \b\b\\ \b\b| \b\b/ \b\b- \b\b\\ \b\b| \b\b/ \b\b- \b\b\\ \b\b| \b\b/ \b\b- \b\b\\ \b\b| \n",
            "The environment is inconsistent, please check the package plan carefully\n",
            "The following packages are causing the inconsistency:\n",
            "\n",
            "  - defaults/linux-64::fontconfig==2.14.1=hef1e5e3_0\n",
            "  - conda-forge/linux-64::libxml2==2.9.14=h22db469_4\n",
            "  - conda-forge/linux-64::libzlib==1.2.13=h166bdaf_4\n",
            "  - conda-forge/linux-64::llvm-openmp==15.0.7=h0cdce71_0\n",
            "  - conda-forge/linux-64::freetype==2.12.1=hca18f0e_1\n",
            "  - conda-forge/linux-64::boost-cpp==1.74.0=h75c5d50_8\n",
            "  - defaults/linux-64::cairo==1.16.0=hb05425b_3\n",
            "  - conda-forge/linux-64::zstd==1.5.2=h8a70e8d_1\n",
            "  - conda-forge/linux-64::smina==2020.12.10=h37f9cb6_0\n",
            "  - conda-forge/linux-64::openbabel==3.1.1=py310h154a6b4_3\n",
            "  - conda-forge/linux-64::libpng==1.6.39=h753d276_0\n",
            "\b\b/ \b\b- \b\b\\ \b\b| \b\b/ \b\b- \b\bdone\n",
            "\n",
            "## Package Plan ##\n",
            "\n",
            "  environment location: /usr/local\n",
            "\n",
            "  added / updated specs:\n",
            "    - smina\n",
            "\n",
            "\n",
            "The following packages will be REMOVED:\n",
            "\n",
            "  libgomp-11.2.0-h1234567_1\n",
            "\n",
            "The following packages will be UPDATED:\n",
            "\n",
            "  libgcc-ng          pkgs/main::libgcc-ng-11.2.0-h1234567_1 --> conda-forge::libgcc-ng-12.2.0-h65d4601_19 \n",
            "  openssl              pkgs/main::openssl-1.1.1s-h7f8727e_0 --> conda-forge::openssl-1.1.1t-h0b41bf4_0 \n",
            "  zlib                    pkgs/main::zlib-1.2.13-h5eee18b_0 --> conda-forge::zlib-1.2.13-h166bdaf_4 \n",
            "\n",
            "The following packages will be SUPERSEDED by a higher-priority channel:\n",
            "\n",
            "  _libgcc_mutex           pkgs/main::_libgcc_mutex-0.1-main --> conda-forge::_libgcc_mutex-0.1-conda_forge \n",
            "  _openmp_mutex          pkgs/main::_openmp_mutex-5.1-1_gnu --> conda-forge::_openmp_mutex-4.5-2_kmp_llvm \n",
            "  ca-certificates    pkgs/main::ca-certificates-2023.01.10~ --> conda-forge::ca-certificates-2022.12.7-ha878542_0 \n",
            "  certifi            pkgs/main/linux-64::certifi-2022.12.7~ --> conda-forge/noarch::certifi-2022.12.7-pyhd8ed1ab_0 \n",
            "\n",
            "\n",
            "\n",
            "Downloading and Extracting Packages\n",
            "\n",
            "Preparing transaction: | \b\bdone\n",
            "Verifying transaction: - \b\bdone\n",
            "Executing transaction: | \b\b/ \b\b- \b\b\\ \b\b| \b\b/ \b\b- \b\b\\ \b\b| \b\b/ \b\b- \b\b\\ \b\b| \b\bdone\n"
          ]
        }
      ]
    },
    {
      "cell_type": "markdown",
      "source": [
        "#Adding hydrogen"
      ],
      "metadata": {
        "id": "_B3foK7g9Gdr"
      }
    },
    {
      "cell_type": "code",
      "execution_count": null,
      "metadata": {
        "colab": {
          "base_uri": "https://localhost:8080/"
        },
        "id": "_Sx8tz-a2y6C",
        "outputId": "90e27813-d179-4b03-ff39-c347c059860b"
      },
      "outputs": [
        {
          "output_type": "stream",
          "name": "stdout",
          "text": [
            "==============================\n",
            "*** Open Babel Warning  in PerceiveBondOrders\n",
            "  Failed to kekulize aromatic bonds in OBMol::PerceiveBondOrders (title is receptor.pdb)\n",
            "\n",
            "1 molecule converted\n"
          ]
        }
      ],
      "source": [
        "!obabel -ipdb \"receptor.pdb\" -opdb -O receptor_h.pdb -h"
      ]
    },
    {
      "cell_type": "code",
      "source": [
        "!obabel -ipdb \"ligand.pdb\" -opdb -O ligand_h.pdb -h"
      ],
      "metadata": {
        "colab": {
          "base_uri": "https://localhost:8080/"
        },
        "id": "7otdd--W-XvZ",
        "outputId": "3721c30a-2745-4240-f1c8-eed797a8e3e3"
      },
      "execution_count": null,
      "outputs": [
        {
          "output_type": "stream",
          "name": "stdout",
          "text": [
            "1 molecule converted\n"
          ]
        }
      ]
    },
    {
      "cell_type": "code",
      "source": [
        "!obabel -isdf \"PP-List-docking Final.sdf\" -osdf -O compound_h.sdf -h"
      ],
      "metadata": {
        "colab": {
          "base_uri": "https://localhost:8080/"
        },
        "id": "lxZ4vF32-pkj",
        "outputId": "d73c2138-d90d-4987-9318-882d05486ac7"
      },
      "execution_count": null,
      "outputs": [
        {
          "output_type": "stream",
          "name": "stdout",
          "text": [
            "44 molecules converted\n"
          ]
        }
      ]
    },
    {
      "cell_type": "markdown",
      "source": [
        "#Docking"
      ],
      "metadata": {
        "id": "h8441Bz4_YRc"
      }
    },
    {
      "cell_type": "code",
      "source": [
        "!smina -r receptor_h.pdb -l ligand_h.pdb --autobox_ligand ligand.pdb --scoring ad4_scoring -o ligand_redock_ad4.pdb --seed 42 --num_modes 1  "
      ],
      "metadata": {
        "colab": {
          "base_uri": "https://localhost:8080/"
        },
        "id": "-PKstAPG_bGW",
        "outputId": "084bbaea-43ea-4227-cff8-cd501edcdd38"
      },
      "execution_count": null,
      "outputs": [
        {
          "output_type": "stream",
          "name": "stdout",
          "text": [
            "   _______  _______ _________ _        _______ \n",
            "  (  ____ \\(       )\\__   __/( (    /|(  ___  )\n",
            "  | (    \\/| () () |   ) (   |  \\  ( || (   ) |\n",
            "  | (_____ | || || |   | |   |   \\ | || (___) |\n",
            "  (_____  )| |(_)| |   | |   | (\\ \\) ||  ___  |\n",
            "        ) || |   | |   | |   | | \\   || (   ) |\n",
            "  /\\____) || )   ( |___) (___| )  \\  || )   ( |\n",
            "  \\_______)|/     \\|\\_______/|/    )_)|/     \\|\n",
            "\n",
            "\n",
            "smina is based off AutoDock Vina. Please cite appropriately.\n",
            "\n",
            "Weights      Terms\n",
            "0.156        vdw(i=6,_j=12,_s=0,_^=100,_c=8)\n",
            "-0.0974      non_dir_h_bond_lj(o=-0.7,_^=100,_c=8)\n",
            "0.1159       ad4_solvation(d-sigma=3.5,_s/q=0.01097,_c=8)\n",
            "0.1465       electrostatic(i=1,_^=100,_c=8)\n",
            "0.2744       num_tors_add\n",
            "\n",
            "Using random seed: 42\n",
            "\n",
            "0%   10   20   30   40   50   60   70   80   90   100%\n",
            "|----|----|----|----|----|----|----|----|----|----|\n",
            "***************************************************\n",
            "\n",
            "mode |   affinity | dist from best mode\n",
            "     | (kcal/mol) | rmsd l.b.| rmsd u.b.\n",
            "-----+------------+----------+----------\n",
            "1       -52.6      0.000      0.000    \n",
            "Refine time 402.854\n",
            "Loop time 406.663\n"
          ]
        }
      ]
    },
    {
      "cell_type": "code",
      "source": [
        "!obrms -f ligand_h.pdb ligand_redock_ad4.pdb"
      ],
      "metadata": {
        "colab": {
          "base_uri": "https://localhost:8080/"
        },
        "id": "Qjerl6QcA1eV",
        "outputId": "eae7f25b-84f6-435e-e814-fa138cf7d1f6"
      },
      "execution_count": null,
      "outputs": [
        {
          "output_type": "stream",
          "name": "stdout",
          "text": [
            "RMSD ligand_h.pdb:ligand_redock_ad4.pdb 3.63565\n"
          ]
        }
      ]
    },
    {
      "cell_type": "code",
      "source": [
        "!smina -r receptor_h.pdb -l ligand_h.pdb --autobox_ligand ligand.pdb --scoring vinardo -o ligand_vinardo.pdb --seed 42 --num_modes 1  "
      ],
      "metadata": {
        "colab": {
          "base_uri": "https://localhost:8080/"
        },
        "id": "EQeC9zy9A4qW",
        "outputId": "9b87a6db-37e6-4e63-d8a1-d8044ca9de2e"
      },
      "execution_count": null,
      "outputs": [
        {
          "output_type": "stream",
          "name": "stdout",
          "text": [
            "   _______  _______ _________ _        _______ \n",
            "  (  ____ \\(       )\\__   __/( (    /|(  ___  )\n",
            "  | (    \\/| () () |   ) (   |  \\  ( || (   ) |\n",
            "  | (_____ | || || |   | |   |   \\ | || (___) |\n",
            "  (_____  )| |(_)| |   | |   | (\\ \\) ||  ___  |\n",
            "        ) || |   | |   | |   | | \\   || (   ) |\n",
            "  /\\____) || )   ( |___) (___| )  \\  || )   ( |\n",
            "  \\_______)|/     \\|\\_______/|/    )_)|/     \\|\n",
            "\n",
            "\n",
            "smina is based off AutoDock Vina. Please cite appropriately.\n",
            "\n",
            "Weights      Terms\n",
            "-0.045       gauss(o=0,_w=0.8,_c=8)\n",
            "0.8          repulsion(o=0,_c=8)\n",
            "-0.035       hydrophobic(g=0,_b=2.5,_c=8)\n",
            "-0.6         non_dir_h_bond(g=-0.6,_b=0,_c=8)\n",
            "0            num_tors_div\n",
            "\n",
            "Using random seed: 42\n",
            "\n",
            "0%   10   20   30   40   50   60   70   80   90   100%\n",
            "|----|----|----|----|----|----|----|----|----|----|\n",
            "***************************************************\n",
            "\n",
            "mode |   affinity | dist from best mode\n",
            "     | (kcal/mol) | rmsd l.b.| rmsd u.b.\n",
            "-----+------------+----------+----------\n",
            "1       -9.1       0.000      0.000    \n",
            "Refine time 217.881\n",
            "Loop time 220.800\n"
          ]
        }
      ]
    },
    {
      "cell_type": "code",
      "source": [
        "!obrms -f ligand_h.pdb ligand_vinardo.pdb"
      ],
      "metadata": {
        "colab": {
          "base_uri": "https://localhost:8080/"
        },
        "id": "3FMFg8BBBrWO",
        "outputId": "d16a4e71-7d20-457d-9720-319e65abbb57"
      },
      "execution_count": null,
      "outputs": [
        {
          "output_type": "stream",
          "name": "stdout",
          "text": [
            "RMSD ligand_h.pdb:ligand_vinardo.pdb 5.26413\n"
          ]
        }
      ]
    },
    {
      "cell_type": "code",
      "source": [
        "!smina -r receptor_h.pdb -l ligand_h.pdb --autobox_ligand ligand.pdb --scoring vina -o ligand_vina.pdb --seed 42 --num_modes 1  "
      ],
      "metadata": {
        "colab": {
          "base_uri": "https://localhost:8080/"
        },
        "id": "vT91MzHEBxKW",
        "outputId": "bd5e6d50-0d71-4329-cf90-6d5fc44dc15e"
      },
      "execution_count": null,
      "outputs": [
        {
          "output_type": "stream",
          "name": "stdout",
          "text": [
            "   _______  _______ _________ _        _______ \n",
            "  (  ____ \\(       )\\__   __/( (    /|(  ___  )\n",
            "  | (    \\/| () () |   ) (   |  \\  ( || (   ) |\n",
            "  | (_____ | || || |   | |   |   \\ | || (___) |\n",
            "  (_____  )| |(_)| |   | |   | (\\ \\) ||  ___  |\n",
            "        ) || |   | |   | |   | | \\   || (   ) |\n",
            "  /\\____) || )   ( |___) (___| )  \\  || )   ( |\n",
            "  \\_______)|/     \\|\\_______/|/    )_)|/     \\|\n",
            "\n",
            "\n",
            "smina is based off AutoDock Vina. Please cite appropriately.\n",
            "\n",
            "Weights      Terms\n",
            "-0.035579    gauss(o=0,_w=0.5,_c=8)\n",
            "-0.005156    gauss(o=3,_w=2,_c=8)\n",
            "0.840245     repulsion(o=0,_c=8)\n",
            "-0.035069    hydrophobic(g=0.5,_b=1.5,_c=8)\n",
            "-0.587439    non_dir_h_bond(g=-0.7,_b=0,_c=8)\n",
            "1.923        num_tors_div\n",
            "\n",
            "Using random seed: 42\n",
            "\n",
            "0%   10   20   30   40   50   60   70   80   90   100%\n",
            "|----|----|----|----|----|----|----|----|----|----|\n",
            "******^C\n"
          ]
        }
      ]
    },
    {
      "cell_type": "code",
      "source": [
        "!obrms -f ligand_h.pdb ligand_vina.pdb"
      ],
      "metadata": {
        "id": "3vmFDYDACe4E"
      },
      "execution_count": null,
      "outputs": []
    },
    {
      "cell_type": "code",
      "source": [
        "!smina -r receptor_h.pdb -l compound_h.sdf --autobox_ligand ligand.pdb --scoring vina -o compound_h_vina.sdf --seed 42 --num_modes 1  "
      ],
      "metadata": {
        "colab": {
          "base_uri": "https://localhost:8080/"
        },
        "id": "MZEYspaTCs78",
        "outputId": "4ea675fb-6eb8-4f5e-c4e2-35e9fc09440c"
      },
      "execution_count": null,
      "outputs": [
        {
          "output_type": "stream",
          "name": "stdout",
          "text": [
            "   _______  _______ _________ _        _______ \n",
            "  (  ____ \\(       )\\__   __/( (    /|(  ___  )\n",
            "  | (    \\/| () () |   ) (   |  \\  ( || (   ) |\n",
            "  | (_____ | || || |   | |   |   \\ | || (___) |\n",
            "  (_____  )| |(_)| |   | |   | (\\ \\) ||  ___  |\n",
            "        ) || |   | |   | |   | | \\   || (   ) |\n",
            "  /\\____) || )   ( |___) (___| )  \\  || )   ( |\n",
            "  \\_______)|/     \\|\\_______/|/    )_)|/     \\|\n",
            "\n",
            "\n",
            "smina is based off AutoDock Vina. Please cite appropriately.\n",
            "\n",
            "Weights      Terms\n",
            "-0.035579    gauss(o=0,_w=0.5,_c=8)\n",
            "-0.005156    gauss(o=3,_w=2,_c=8)\n",
            "0.840245     repulsion(o=0,_c=8)\n",
            "-0.035069    hydrophobic(g=0.5,_b=1.5,_c=8)\n",
            "-0.587439    non_dir_h_bond(g=-0.7,_b=0,_c=8)\n",
            "1.923        num_tors_div\n",
            "\n",
            "Using random seed: 42\n",
            "\n",
            "0%   10   20   30   40   50   60   70   80   90   100%\n",
            "|----|----|----|----|----|----|----|----|----|----|\n",
            "***^C\n"
          ]
        }
      ]
    },
    {
      "cell_type": "code",
      "source": [
        "!obrms -f ligand_h.pdb compound_h_vina.sdf"
      ],
      "metadata": {
        "id": "XNtYVefy40wi"
      },
      "execution_count": null,
      "outputs": []
    },
    {
      "cell_type": "code",
      "source": [
        "!obrms -f ligand_h.pdb the_best_ten_compunds.sdf"
      ],
      "metadata": {
        "colab": {
          "base_uri": "https://localhost:8080/"
        },
        "id": "hwCWtvJvQBIV",
        "outputId": "eeb32fef-c9fb-46cf-84e5-c1707611678e"
      },
      "execution_count": null,
      "outputs": [
        {
          "output_type": "stream",
          "name": "stdout",
          "text": [
            "==============================\n",
            "*** Open Babel Warning  in ReadUnimplementedBlock\n",
            "  COLLECTION blocks are not currently implemented and their contents are ignored.\n",
            "RMSD ligand_h.pdb:Untitled Phytomedicine Document-1 inf\n",
            "RMSD ligand_h.pdb:Untitled Phytomedicine Document-1 inf\n",
            "RMSD ligand_h.pdb:Untitled Phytomedicine Document-1 inf\n",
            "RMSD ligand_h.pdb:Untitled Phytomedicine Document-1 inf\n",
            "RMSD ligand_h.pdb:Untitled Phytomedicine Document-1 inf\n",
            "RMSD ligand_h.pdb:Untitled Phytomedicine Document-1 inf\n",
            "RMSD ligand_h.pdb:Untitled Phytomedicine Document-1 inf\n",
            "RMSD ligand_h.pdb:Untitled Phytomedicine Document-1 inf\n",
            "RMSD ligand_h.pdb:Untitled Phytomedicine Document-1 inf\n",
            "RMSD ligand_h.pdb:Untitled Phytomedicine Document-1 inf\n"
          ]
        }
      ]
    }
  ]
}